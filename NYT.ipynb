{
 "cells": [
  {
   "cell_type": "code",
   "execution_count": 97,
   "metadata": {
    "collapsed": false
   },
   "outputs": [
    {
     "name": "stdout",
     "output_type": "stream",
     "text": [
      "442.4779 [344.552785, 0.030213, 277.614965]\n",
      "219.7802 [219.740502, 0.003449, 4.177065]\n",
      "257.732 [195.714261, 0.034068, -167.695291]\n",
      "200.8032 [180.654532, 0.086213, 87.668389]\n",
      "134.2282 [82.835513, 0.012476, -105.61954]\n",
      "47.9616 [45.210918, 0.003365, -16.008996]\n",
      "55.0358 [54.905296, 0.017912, 3.787796]\n",
      "0.0 [5e-06, 0.0, 0.0]\n",
      "57.8704 [54.367897, 0.020886, 19.827115]\n"
     ]
    }
   ],
   "source": [
    "import pandas as pd\n",
    "import sys\n",
    "import csv\n",
    "from collections import namedtuple\n",
    "import heapq\n",
    "\n",
    "h = []\n",
    "capacity = 10\n",
    "#sys.arg\n",
    "\n",
    "with open('./sample.csv', 'rt') as f:\n",
    "   \n",
    "    reader = csv.reader(f)\n",
    "    Data = namedtuple(\"Data\", next(reader))\n",
    "    for data in map(Data._make, reader):\n",
    "        if len(h)< capacity:\n",
    "            heapq.heappush(h, (-float(data.dist),[float(data.x),float(data.y),float(data.z)]))\n",
    "        elif float(data.dist)>h[0][0]:\n",
    "            heapq.heappop(h)\n",
    "            heapq.heappush(h, (-float(data.dist),[float(data.x),float(data.y),float(data.z)]))\n",
    "    for i in range(len(h)):\n",
    "        print(-h[i][0],(h[i][1]))\n",
    "    \n",
    "        \n",
    "            \n",
    "        \n",
    "\n"
   ]
  },
  {
   "cell_type": "code",
   "execution_count": 102,
   "metadata": {
    "collapsed": false
   },
   "outputs": [
    {
     "name": "stdout",
     "output_type": "stream",
     "text": [
      "            x         y           z  row_nbr\n",
      "2   45.210918  0.003365  -16.008996        3\n",
      "3  344.552785  0.030213  277.614965        4\n"
     ]
    },
    {
     "name": "stderr",
     "output_type": "stream",
     "text": [
      "/Users/ying/anaconda3/envs/CarND-TensorFlow-Lab/lib/python3.5/site-packages/sklearn/utils/validation.py:395: DeprecationWarning: Passing 1d arrays as data is deprecated in 0.17 and will raise ValueError in 0.19. Reshape your data either using X.reshape(-1, 1) if your data has a single feature or X.reshape(1, -1) if it contains a single sample.\n",
      "  DeprecationWarning)\n"
     ]
    }
   ],
   "source": [
    "from sklearn.neighbors import KDTree\n",
    "import pandas as pd\n",
    "\n",
    "start = 3\n",
    "offset = 2\n",
    "point = [0,0,0]\n",
    "knearest = 9\n",
    "\n",
    "coord = pd.read_csv(\"./sample.csv\")\n",
    "\n",
    "tree = KDTree(coord[['x','y','z']])\n",
    "indexes = tree.query(point,k=knearest,return_distance=False,dualtree=True,sort_results=True)\n",
    "result = coord[coord.id.isin(indexes[0])][['x','y','z']]\n",
    "\n",
    "#add an increment index so we can filter the index by offsets\n",
    "result = result.assign(row_nbr=[i+1 for i in range(len(result))])\n",
    "print(result[start-1:start-1+offset])\n",
    "\n",
    "\n"
   ]
  },
  {
   "cell_type": "code",
   "execution_count": null,
   "metadata": {
    "collapsed": true
   },
   "outputs": [],
   "source": [
    "\n"
   ]
  }
 ],
 "metadata": {
  "kernelspec": {
   "display_name": "Python 3",
   "language": "python",
   "name": "python3"
  },
  "language_info": {
   "codemirror_mode": {
    "name": "ipython",
    "version": 3
   },
   "file_extension": ".py",
   "mimetype": "text/x-python",
   "name": "python",
   "nbconvert_exporter": "python",
   "pygments_lexer": "ipython3",
   "version": "3.5.2"
  }
 },
 "nbformat": 4,
 "nbformat_minor": 1
}
